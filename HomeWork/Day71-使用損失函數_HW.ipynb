{
 "cells": [
  {
   "cell_type": "markdown",
   "metadata": {
    "colab_type": "text",
    "id": "cj4tE8e8iUtO"
   },
   "source": [
    "#   \n",
    "\n",
    "# 作業目標:\n",
    "\n",
    "    1. 藉由固定的 dataset, 來驗證不同loss function\n",
    "    2. Dataset 的特性跟我們選用的loss function 對accrancy 的影響\n",
    "    \n",
    "    \n",
    "# 作業重點: \n",
    "    請分別選用 \"MSE\", \"binary _crossentropy\"\n",
    "    查看Train/test accurancy and loss rate\n",
    "    "
   ]
  },
  {
   "cell_type": "markdown",
   "metadata": {
    "colab_type": "text",
    "id": "R51J4KyyiUsL"
   },
   "source": [
    "# 導入必要的函數"
   ]
  },
  {
   "cell_type": "code",
   "execution_count": 1,
   "metadata": {
    "colab": {},
    "colab_type": "code",
    "collapsed": true,
    "id": "Qd68OQjciUsM"
   },
   "outputs": [
    {
     "name": "stderr",
     "output_type": "stream",
     "text": [
      "Using TensorFlow backend.\n",
      "C:\\Users\\Hsu-Hui\\.conda\\envs\\GIS\\lib\\site-packages\\tensorflow\\python\\framework\\dtypes.py:516: FutureWarning: Passing (type, 1) or '1type' as a synonym of type is deprecated; in a future version of numpy, it will be understood as (type, (1,)) / '(1,)type'.\n",
      "  _np_qint8 = np.dtype([(\"qint8\", np.int8, 1)])\n",
      "C:\\Users\\Hsu-Hui\\.conda\\envs\\GIS\\lib\\site-packages\\tensorflow\\python\\framework\\dtypes.py:517: FutureWarning: Passing (type, 1) or '1type' as a synonym of type is deprecated; in a future version of numpy, it will be understood as (type, (1,)) / '(1,)type'.\n",
      "  _np_quint8 = np.dtype([(\"quint8\", np.uint8, 1)])\n",
      "C:\\Users\\Hsu-Hui\\.conda\\envs\\GIS\\lib\\site-packages\\tensorflow\\python\\framework\\dtypes.py:518: FutureWarning: Passing (type, 1) or '1type' as a synonym of type is deprecated; in a future version of numpy, it will be understood as (type, (1,)) / '(1,)type'.\n",
      "  _np_qint16 = np.dtype([(\"qint16\", np.int16, 1)])\n",
      "C:\\Users\\Hsu-Hui\\.conda\\envs\\GIS\\lib\\site-packages\\tensorflow\\python\\framework\\dtypes.py:519: FutureWarning: Passing (type, 1) or '1type' as a synonym of type is deprecated; in a future version of numpy, it will be understood as (type, (1,)) / '(1,)type'.\n",
      "  _np_quint16 = np.dtype([(\"quint16\", np.uint16, 1)])\n",
      "C:\\Users\\Hsu-Hui\\.conda\\envs\\GIS\\lib\\site-packages\\tensorflow\\python\\framework\\dtypes.py:520: FutureWarning: Passing (type, 1) or '1type' as a synonym of type is deprecated; in a future version of numpy, it will be understood as (type, (1,)) / '(1,)type'.\n",
      "  _np_qint32 = np.dtype([(\"qint32\", np.int32, 1)])\n",
      "C:\\Users\\Hsu-Hui\\.conda\\envs\\GIS\\lib\\site-packages\\tensorflow\\python\\framework\\dtypes.py:525: FutureWarning: Passing (type, 1) or '1type' as a synonym of type is deprecated; in a future version of numpy, it will be understood as (type, (1,)) / '(1,)type'.\n",
      "  np_resource = np.dtype([(\"resource\", np.ubyte, 1)])\n",
      "C:\\Users\\Hsu-Hui\\.conda\\envs\\GIS\\lib\\site-packages\\tensorboard\\compat\\tensorflow_stub\\dtypes.py:541: FutureWarning: Passing (type, 1) or '1type' as a synonym of type is deprecated; in a future version of numpy, it will be understood as (type, (1,)) / '(1,)type'.\n",
      "  _np_qint8 = np.dtype([(\"qint8\", np.int8, 1)])\n",
      "C:\\Users\\Hsu-Hui\\.conda\\envs\\GIS\\lib\\site-packages\\tensorboard\\compat\\tensorflow_stub\\dtypes.py:542: FutureWarning: Passing (type, 1) or '1type' as a synonym of type is deprecated; in a future version of numpy, it will be understood as (type, (1,)) / '(1,)type'.\n",
      "  _np_quint8 = np.dtype([(\"quint8\", np.uint8, 1)])\n",
      "C:\\Users\\Hsu-Hui\\.conda\\envs\\GIS\\lib\\site-packages\\tensorboard\\compat\\tensorflow_stub\\dtypes.py:543: FutureWarning: Passing (type, 1) or '1type' as a synonym of type is deprecated; in a future version of numpy, it will be understood as (type, (1,)) / '(1,)type'.\n",
      "  _np_qint16 = np.dtype([(\"qint16\", np.int16, 1)])\n",
      "C:\\Users\\Hsu-Hui\\.conda\\envs\\GIS\\lib\\site-packages\\tensorboard\\compat\\tensorflow_stub\\dtypes.py:544: FutureWarning: Passing (type, 1) or '1type' as a synonym of type is deprecated; in a future version of numpy, it will be understood as (type, (1,)) / '(1,)type'.\n",
      "  _np_quint16 = np.dtype([(\"quint16\", np.uint16, 1)])\n",
      "C:\\Users\\Hsu-Hui\\.conda\\envs\\GIS\\lib\\site-packages\\tensorboard\\compat\\tensorflow_stub\\dtypes.py:545: FutureWarning: Passing (type, 1) or '1type' as a synonym of type is deprecated; in a future version of numpy, it will be understood as (type, (1,)) / '(1,)type'.\n",
      "  _np_qint32 = np.dtype([(\"qint32\", np.int32, 1)])\n",
      "C:\\Users\\Hsu-Hui\\.conda\\envs\\GIS\\lib\\site-packages\\tensorboard\\compat\\tensorflow_stub\\dtypes.py:550: FutureWarning: Passing (type, 1) or '1type' as a synonym of type is deprecated; in a future version of numpy, it will be understood as (type, (1,)) / '(1,)type'.\n",
      "  np_resource = np.dtype([(\"resource\", np.ubyte, 1)])\n"
     ]
    }
   ],
   "source": [
    "from keras.datasets import cifar10\n",
    "import numpy as np\n",
    "np.random.seed(10)"
   ]
  },
  {
   "cell_type": "markdown",
   "metadata": {
    "colab_type": "text",
    "id": "GxKuzQLQiUsP"
   },
   "source": [
    "# 資料準備"
   ]
  },
  {
   "cell_type": "code",
   "execution_count": 2,
   "metadata": {
    "colab": {},
    "colab_type": "code",
    "id": "MIbFZdTCiUsQ"
   },
   "outputs": [],
   "source": [
    "#取得Keras Dataset\n",
    "(x_img_train,y_label_train),(x_img_test,y_label_test)=cifar10.load_data()"
   ]
  },
  {
   "cell_type": "code",
   "execution_count": 3,
   "metadata": {
    "colab": {},
    "colab_type": "code",
    "id": "J8CJVjNOiUsS"
   },
   "outputs": [
    {
     "name": "stdout",
     "output_type": "stream",
     "text": [
      "train data: images: (50000, 32, 32, 3)  labels: (50000, 1)\n",
      "test  data: images: (10000, 32, 32, 3)  labels: (10000, 1)\n"
     ]
    }
   ],
   "source": [
    "#確認 CIFAR10 Dataset 資料維度\n",
    "print(\"train data:\",'images:',x_img_train.shape,\n",
    "      \" labels:\",y_label_train.shape) \n",
    "print(\"test  data:\",'images:',x_img_test.shape ,\n",
    "      \" labels:\",y_label_test.shape) "
   ]
  },
  {
   "cell_type": "code",
   "execution_count": 4,
   "metadata": {
    "colab": {},
    "colab_type": "code",
    "id": "V3P6P4DXiUsV"
   },
   "outputs": [],
   "source": [
    "#資料正規化\n",
    "x_img_train_normalize = x_img_train.astype('float32') / 255.0\n",
    "x_img_test_normalize = x_img_test.astype('float32') / 255.0"
   ]
  },
  {
   "cell_type": "code",
   "execution_count": 5,
   "metadata": {
    "colab": {},
    "colab_type": "code",
    "id": "vsDyjKYliUsX"
   },
   "outputs": [
    {
     "data": {
      "text/plain": [
       "(10000, 10)"
      ]
     },
     "execution_count": 5,
     "metadata": {},
     "output_type": "execute_result"
    }
   ],
   "source": [
    "#針對Label 做 ONE HOT ENCODE\n",
    "from keras.utils import np_utils\n",
    "y_label_train_OneHot = np_utils.to_categorical(y_label_train)\n",
    "y_label_test_OneHot = np_utils.to_categorical(y_label_test)\n",
    "y_label_test_OneHot.shape"
   ]
  },
  {
   "cell_type": "markdown",
   "metadata": {
    "colab_type": "text",
    "id": "RutW2OtgiUsZ"
   },
   "source": [
    "# 建立模型"
   ]
  },
  {
   "cell_type": "code",
   "execution_count": 6,
   "metadata": {
    "colab": {},
    "colab_type": "code",
    "id": "aHz592aXiUsa"
   },
   "outputs": [],
   "source": [
    "from keras.models import Sequential\n",
    "from keras.layers import Dense, Dropout, Activation, Flatten\n",
    "from keras.layers import Conv2D, MaxPooling2D, ZeroPadding2D"
   ]
  },
  {
   "cell_type": "code",
   "execution_count": 7,
   "metadata": {
    "colab": {},
    "colab_type": "code",
    "id": "hslqrIp0iUse"
   },
   "outputs": [],
   "source": [
    "categorical_crossentropy_model = Sequential()"
   ]
  },
  {
   "cell_type": "code",
   "execution_count": 8,
   "metadata": {
    "colab": {},
    "colab_type": "code",
    "id": "Hqe35hs2iUsi"
   },
   "outputs": [],
   "source": [
    "#卷積層1"
   ]
  },
  {
   "cell_type": "code",
   "execution_count": 9,
   "metadata": {
    "colab": {},
    "colab_type": "code",
    "id": "ED7dqe1YiUsm"
   },
   "outputs": [],
   "source": [
    "categorical_crossentropy_model.add(Conv2D(filters=32,kernel_size=(3,3),\n",
    "                 input_shape=(32, 32,3), \n",
    "                 activation='relu', \n",
    "                 padding='same'))"
   ]
  },
  {
   "cell_type": "code",
   "execution_count": 10,
   "metadata": {
    "colab": {},
    "colab_type": "code",
    "id": "n-GRKmPViUso"
   },
   "outputs": [],
   "source": [
    "categorical_crossentropy_model.add(Dropout(rate=0.25))"
   ]
  },
  {
   "cell_type": "code",
   "execution_count": 11,
   "metadata": {
    "colab": {},
    "colab_type": "code",
    "id": "GlWnnD1uiUsw"
   },
   "outputs": [],
   "source": [
    "categorical_crossentropy_model.add(MaxPooling2D(pool_size=(2, 2)))"
   ]
  },
  {
   "cell_type": "code",
   "execution_count": 12,
   "metadata": {
    "colab": {},
    "colab_type": "code",
    "id": "nawlkt55iUsy"
   },
   "outputs": [],
   "source": [
    "#卷積層2與池化層2"
   ]
  },
  {
   "cell_type": "code",
   "execution_count": 13,
   "metadata": {
    "colab": {},
    "colab_type": "code",
    "id": "xxyETiKNiUs1"
   },
   "outputs": [],
   "source": [
    "categorical_crossentropy_model.add(Conv2D(filters=64, kernel_size=(3, 3), \n",
    "                 activation='relu', padding='same'))"
   ]
  },
  {
   "cell_type": "code",
   "execution_count": 14,
   "metadata": {
    "colab": {},
    "colab_type": "code",
    "id": "RqcKWtqGiUs2"
   },
   "outputs": [],
   "source": [
    "categorical_crossentropy_model.add(Dropout(0.25))"
   ]
  },
  {
   "cell_type": "code",
   "execution_count": 15,
   "metadata": {
    "colab": {},
    "colab_type": "code",
    "id": "BUOOzlqfiUs4"
   },
   "outputs": [],
   "source": [
    "categorical_crossentropy_model.add(MaxPooling2D(pool_size=(2, 2)))"
   ]
  },
  {
   "cell_type": "code",
   "execution_count": 16,
   "metadata": {
    "colab": {},
    "colab_type": "code",
    "id": "LpkppB2siUs7"
   },
   "outputs": [],
   "source": [
    "#建立神經網路(平坦層、隱藏層、輸出層)"
   ]
  },
  {
   "cell_type": "code",
   "execution_count": 17,
   "metadata": {
    "colab": {},
    "colab_type": "code",
    "id": "UQOfU54_iUs_"
   },
   "outputs": [],
   "source": [
    "categorical_crossentropy_model.add(Flatten())\n",
    "categorical_crossentropy_model.add(Dropout(rate=0.25))"
   ]
  },
  {
   "cell_type": "code",
   "execution_count": 18,
   "metadata": {
    "colab": {},
    "colab_type": "code",
    "id": "_NV-8sq4iUtD"
   },
   "outputs": [],
   "source": [
    "categorical_crossentropy_model.add(Dense(1024, activation='relu'))\n",
    "categorical_crossentropy_model.add(Dropout(rate=0.25))"
   ]
  },
  {
   "cell_type": "code",
   "execution_count": 19,
   "metadata": {
    "colab": {},
    "colab_type": "code",
    "id": "qVK77krOiUtF"
   },
   "outputs": [],
   "source": [
    "categorical_crossentropy_model.add(Dense(10, activation='softmax'))"
   ]
  },
  {
   "cell_type": "code",
   "execution_count": 20,
   "metadata": {
    "colab": {},
    "colab_type": "code",
    "id": "ZxzRIjR0iUtH"
   },
   "outputs": [
    {
     "name": "stdout",
     "output_type": "stream",
     "text": [
      "Model: \"sequential_1\"\n",
      "_________________________________________________________________\n",
      "Layer (type)                 Output Shape              Param #   \n",
      "=================================================================\n",
      "conv2d_1 (Conv2D)            (None, 32, 32, 32)        896       \n",
      "_________________________________________________________________\n",
      "dropout_1 (Dropout)          (None, 32, 32, 32)        0         \n",
      "_________________________________________________________________\n",
      "max_pooling2d_1 (MaxPooling2 (None, 16, 16, 32)        0         \n",
      "_________________________________________________________________\n",
      "conv2d_2 (Conv2D)            (None, 16, 16, 64)        18496     \n",
      "_________________________________________________________________\n",
      "dropout_2 (Dropout)          (None, 16, 16, 64)        0         \n",
      "_________________________________________________________________\n",
      "max_pooling2d_2 (MaxPooling2 (None, 8, 8, 64)          0         \n",
      "_________________________________________________________________\n",
      "flatten_1 (Flatten)          (None, 4096)              0         \n",
      "_________________________________________________________________\n",
      "dropout_3 (Dropout)          (None, 4096)              0         \n",
      "_________________________________________________________________\n",
      "dense_1 (Dense)              (None, 1024)              4195328   \n",
      "_________________________________________________________________\n",
      "dropout_4 (Dropout)          (None, 1024)              0         \n",
      "_________________________________________________________________\n",
      "dense_2 (Dense)              (None, 10)                10250     \n",
      "=================================================================\n",
      "Total params: 4,224,970\n",
      "Trainable params: 4,224,970\n",
      "Non-trainable params: 0\n",
      "_________________________________________________________________\n",
      "None\n"
     ]
    }
   ],
   "source": [
    "#檢查model 的STACK\n",
    "print(categorical_crossentropy_model.summary())"
   ]
  },
  {
   "cell_type": "markdown",
   "metadata": {
    "colab_type": "text",
    "id": "QJCtpJM0iUtJ"
   },
   "source": [
    "# 載入之前訓練的模型"
   ]
  },
  {
   "cell_type": "code",
   "execution_count": 21,
   "metadata": {
    "colab": {},
    "colab_type": "code",
    "id": "JU3A6NzQiUtK"
   },
   "outputs": [
    {
     "name": "stdout",
     "output_type": "stream",
     "text": [
      "載入模型失敗!開始訓練一個新模型\n"
     ]
    }
   ],
   "source": [
    "try:\n",
    "    categorical_crossentropy_model.load_weights(\"SaveModel/cifarCnnModel.h5\")\n",
    "    print(\"載入模型成功!繼續訓練模型\")\n",
    "except :    \n",
    "    print(\"載入模型失敗!開始訓練一個新模型\")"
   ]
  },
  {
   "cell_type": "markdown",
   "metadata": {
    "colab_type": "text",
    "id": "qBbCuziziUtM"
   },
   "source": [
    "# 訓練模型"
   ]
  },
  {
   "cell_type": "code",
   "execution_count": 25,
   "metadata": {
    "colab": {},
    "colab_type": "code",
    "id": "Q6BiBcseiUtP"
   },
   "outputs": [
    {
     "data": {
      "text/plain": [
       "'\\n作業:\\n請分別選用 \"MSE\", \"binary _crossentropy\"\\n查看Train/test accurancy and loss rate\\n'"
      ]
     },
     "execution_count": 25,
     "metadata": {},
     "output_type": "execute_result"
    }
   ],
   "source": [
    "import keras\n",
    "MSE_model= keras.models.clone_model(categorical_crossentropy_model)\n",
    "binary_crossentropy_model= keras.models.clone_model(categorical_crossentropy_model)\n",
    "\n",
    "categorical_crossentropy_model.compile(loss='categorical_crossentropy', optimizer='sgd', metrics=['accuracy'])\n",
    "MSE_model.compile(loss='MSE', optimizer='sgd', metrics=['accuracy'])\n",
    "binary_crossentropy_model.compile(loss='binary_crossentropy', optimizer='sgd', metrics=['accuracy'])\n",
    "'''\n",
    "作業:\n",
    "請分別選用 \"MSE\", \"binary _crossentropy\"\n",
    "查看Train/test accurancy and loss rate\n",
    "'''"
   ]
  },
  {
   "cell_type": "code",
   "execution_count": 32,
   "metadata": {},
   "outputs": [],
   "source": [
    "import matplotlib.pyplot as plt\n",
    "%matplotlib inline\n",
    "\n",
    "#定義一個繪圖函數\n",
    "def show_train_history(history, para1, para2, para3=None, para4=None):\n",
    "    if para3 == None or para4 == None:\n",
    "        plt.figure(figsize=(6,4))\n",
    "    else:\n",
    "        plt.figure(figsize=(10,4))\n",
    "        plt.subplot(121)\n",
    "    plt.plot(history.history[para1])\n",
    "    plt.plot(history.history[para2])\n",
    "    plt.title('Train History')\n",
    "    plt.ylabel(para1)\n",
    "    plt.xlabel('Epoch')\n",
    "    plt.legend([para1, para2], loc='upper left')\n",
    "    if para3 == None or para4 == None:\n",
    "        plt.show()\n",
    "    else:\n",
    "        plt.subplot(122)\n",
    "        plt.plot(history.history[para3])\n",
    "        plt.plot(history.history[para4])\n",
    "        plt.title('Train History')\n",
    "        plt.ylabel(para3)\n",
    "        plt.xlabel('Epoch')\n",
    "        plt.legend([para3, para4], loc='upper left')\n",
    "        plt.subplots_adjust(wspace =0.3, hspace =0)\n",
    "        plt.show()\n",
    "\n"
   ]
  },
  {
   "cell_type": "code",
   "execution_count": 28,
   "metadata": {
    "colab": {},
    "colab_type": "code",
    "id": "4-GdDgmQiUtS"
   },
   "outputs": [
    {
     "name": "stdout",
     "output_type": "stream",
     "text": [
      "Train on 37500 samples, validate on 12500 samples\n",
      "Epoch 1/12\n",
      "37500/37500 [==============================] - 31s 814us/step - loss: 1.3192 - accuracy: 0.5302 - val_loss: 1.4002 - val_accuracy: 0.5464\n",
      "Epoch 2/12\n",
      "37500/37500 [==============================] - 32s 858us/step - loss: 1.2973 - accuracy: 0.5367 - val_loss: 1.3896 - val_accuracy: 0.5468\n",
      "Epoch 3/12\n",
      "37500/37500 [==============================] - 31s 836us/step - loss: 1.2780 - accuracy: 0.5448 - val_loss: 1.3344 - val_accuracy: 0.5588\n",
      "Epoch 4/12\n",
      "37500/37500 [==============================] - 31s 832us/step - loss: 1.2645 - accuracy: 0.5513 - val_loss: 1.3124 - val_accuracy: 0.5746\n",
      "Epoch 5/12\n",
      "37500/37500 [==============================] - 31s 814us/step - loss: 1.2384 - accuracy: 0.5583 - val_loss: 1.3026 - val_accuracy: 0.5700\n",
      "Epoch 6/12\n",
      "37500/37500 [==============================] - 31s 817us/step - loss: 1.2221 - accuracy: 0.5638 - val_loss: 1.2810 - val_accuracy: 0.5798\n",
      "Epoch 7/12\n",
      "37500/37500 [==============================] - 30s 813us/step - loss: 1.2083 - accuracy: 0.5692 - val_loss: 1.2720 - val_accuracy: 0.5788\n",
      "Epoch 8/12\n",
      "37500/37500 [==============================] - 31s 815us/step - loss: 1.1926 - accuracy: 0.5772 - val_loss: 1.2692 - val_accuracy: 0.5874\n",
      "Epoch 9/12\n",
      "37500/37500 [==============================] - 30s 812us/step - loss: 1.1766 - accuracy: 0.5831 - val_loss: 1.2346 - val_accuracy: 0.6038\n",
      "Epoch 10/12\n",
      "37500/37500 [==============================] - 31s 817us/step - loss: 1.1671 - accuracy: 0.5841 - val_loss: 1.2613 - val_accuracy: 0.5961\n",
      "Epoch 11/12\n",
      "37500/37500 [==============================] - 30s 812us/step - loss: 1.1542 - accuracy: 0.5912 - val_loss: 1.2212 - val_accuracy: 0.6145\n",
      "Epoch 12/12\n",
      "37500/37500 [==============================] - 31s 819us/step - loss: 1.1355 - accuracy: 0.5985 - val_loss: 1.2166 - val_accuracy: 0.6082\n",
      "10000/10000 [==============================] - 1s 108us/step\n",
      "Train on 37500 samples, validate on 12500 samples\n",
      "Epoch 1/12\n",
      "37500/37500 [==============================] - 31s 822us/step - loss: 0.0903 - accuracy: 0.1059 - val_loss: 0.0899 - val_accuracy: 0.1270\n",
      "Epoch 2/12\n",
      "37500/37500 [==============================] - 31s 824us/step - loss: 0.0901 - accuracy: 0.1098 - val_loss: 0.0898 - val_accuracy: 0.1358\n",
      "Epoch 3/12\n",
      "37500/37500 [==============================] - 31s 828us/step - loss: 0.0900 - accuracy: 0.1165 - val_loss: 0.0897 - val_accuracy: 0.1450\n",
      "Epoch 4/12\n",
      "37500/37500 [==============================] - 31s 817us/step - loss: 0.0898 - accuracy: 0.1254 - val_loss: 0.0897 - val_accuracy: 0.1532\n",
      "Epoch 5/12\n",
      "37500/37500 [==============================] - 31s 818us/step - loss: 0.0897 - accuracy: 0.1324 - val_loss: 0.0896 - val_accuracy: 0.1629\n",
      "Epoch 6/12\n",
      "37500/37500 [==============================] - 31s 815us/step - loss: 0.0896 - accuracy: 0.1395 - val_loss: 0.0895 - val_accuracy: 0.1718\n",
      "Epoch 7/12\n",
      "37500/37500 [==============================] - 31s 821us/step - loss: 0.0895 - accuracy: 0.1426 - val_loss: 0.0894 - val_accuracy: 0.1781\n",
      "Epoch 8/12\n",
      "37500/37500 [==============================] - 31s 816us/step - loss: 0.0893 - accuracy: 0.1509 - val_loss: 0.0893 - val_accuracy: 0.1871\n",
      "Epoch 9/12\n",
      "37500/37500 [==============================] - 31s 818us/step - loss: 0.0892 - accuracy: 0.1567 - val_loss: 0.0893 - val_accuracy: 0.1970\n",
      "Epoch 10/12\n",
      "37500/37500 [==============================] - 31s 820us/step - loss: 0.0890 - accuracy: 0.1628 - val_loss: 0.0892 - val_accuracy: 0.1998\n",
      "Epoch 11/12\n",
      "37500/37500 [==============================] - 32s 852us/step - loss: 0.0889 - accuracy: 0.1630 - val_loss: 0.0891 - val_accuracy: 0.2072\n",
      "Epoch 12/12\n",
      "37500/37500 [==============================] - 32s 856us/step - loss: 0.0888 - accuracy: 0.1694 - val_loss: 0.0889 - val_accuracy: 0.2130\n",
      "10000/10000 [==============================] - 1s 111us/step\n",
      "WARNING:tensorflow:From C:\\Users\\Hsu-Hui\\.conda\\envs\\GIS\\lib\\site-packages\\tensorflow\\python\\ops\\math_grad.py:1250: add_dispatch_support.<locals>.wrapper (from tensorflow.python.ops.array_ops) is deprecated and will be removed in a future version.\n",
      "Instructions for updating:\n",
      "Use tf.where in 2.0, which has the same broadcast rule as np.where\n",
      "Train on 37500 samples, validate on 12500 samples\n",
      "Epoch 1/12\n",
      "37500/37500 [==============================] - 31s 834us/step - loss: 0.3260 - accuracy: 0.9000 - val_loss: 0.3222 - val_accuracy: 0.9000\n",
      "Epoch 2/12\n",
      "37500/37500 [==============================] - 31s 835us/step - loss: 0.3206 - accuracy: 0.9000 - val_loss: 0.3195 - val_accuracy: 0.9000\n",
      "Epoch 3/12\n",
      "37500/37500 [==============================] - 31s 822us/step - loss: 0.3162 - accuracy: 0.9000 - val_loss: 0.3159 - val_accuracy: 0.9000\n",
      "Epoch 4/12\n",
      "37500/37500 [==============================] - 32s 851us/step - loss: 0.3107 - accuracy: 0.9000 - val_loss: 0.3112 - val_accuracy: 0.9000\n",
      "Epoch 5/12\n",
      "37500/37500 [==============================] - 31s 839us/step - loss: 0.3049 - accuracy: 0.9000 - val_loss: 0.3062 - val_accuracy: 0.9000\n",
      "Epoch 6/12\n",
      "37500/37500 [==============================] - 31s 823us/step - loss: 0.2990 - accuracy: 0.9001 - val_loss: 0.3016 - val_accuracy: 0.9000\n",
      "Epoch 7/12\n",
      "37500/37500 [==============================] - 31s 825us/step - loss: 0.2949 - accuracy: 0.9002 - val_loss: 0.2980 - val_accuracy: 0.9000\n",
      "Epoch 8/12\n",
      "37500/37500 [==============================] - 31s 827us/step - loss: 0.2917 - accuracy: 0.9003 - val_loss: 0.2952 - val_accuracy: 0.9000\n",
      "Epoch 9/12\n",
      "37500/37500 [==============================] - 32s 840us/step - loss: 0.2887 - accuracy: 0.9004 - val_loss: 0.2929 - val_accuracy: 0.9000\n",
      "Epoch 10/12\n",
      "37500/37500 [==============================] - 31s 837us/step - loss: 0.2867 - accuracy: 0.9006 - val_loss: 0.2912 - val_accuracy: 0.9000\n",
      "Epoch 11/12\n",
      "37500/37500 [==============================] - 31s 820us/step - loss: 0.2847 - accuracy: 0.9007 - val_loss: 0.2892 - val_accuracy: 0.9001\n",
      "Epoch 12/12\n",
      "37500/37500 [==============================] - 31s 833us/step - loss: 0.2828 - accuracy: 0.9008 - val_loss: 0.2874 - val_accuracy: 0.9001\n",
      "10000/10000 [==============================] - 1s 117us/step\n"
     ]
    }
   ],
   "source": [
    "#模型訓練, \"Train_History\" 把訓練過程所得到的數值存起來\n",
    "train_history = [None]*3\n",
    "test_history = [None]*3\n",
    "for i, model in enumerate([categorical_crossentropy_model, MSE_model, binary_crossentropy_model]):\n",
    "    train_history[i] = model.fit(x_img_train_normalize, y_label_train_OneHot,\n",
    "                        validation_split=0.25,\n",
    "                        epochs=12, batch_size=128, verbose=1)     \n",
    "    test_history[i] = model.evaluate(x_img_test_normalize, y_label_test_OneHot, batch_size=128, verbose=1, sample_weight=None)"
   ]
  },
  {
   "cell_type": "code",
   "execution_count": 33,
   "metadata": {},
   "outputs": [
    {
     "name": "stdout",
     "output_type": "stream",
     "text": [
      "Loss function : categorical_crossentropy\n"
     ]
    },
    {
     "data": {
      "image/png": "[encoded data removed]",
      "text/plain": [
       "<Figure size 720x288 with 2 Axes>"
      ]
     },
     "metadata": {
      "needs_background": "light"
     },
     "output_type": "display_data"
    },
    {
     "name": "stdout",
     "output_type": "stream",
     "text": [
      "Test loss : 1.2068073902130128\n",
      "Test acc  : 0.6011999845504761\n",
      "\n",
      "\n",
      "Loss function : MSE\n"
     ]
    },
    {
     "data": {
      "image/png": "[encoded data removed]",
      "text/plain": [
       "<Figure size 720x288 with 2 Axes>"
      ]
     },
     "metadata": {
      "needs_background": "light"
     },
     "output_type": "display_data"
    },
    {
     "name": "stdout",
     "output_type": "stream",
     "text": [
      "Test loss : 0.08895015709400177\n",
      "Test acc  : 0.2150000035762787\n",
      "\n",
      "\n",
      "Loss function : binary_crossentropy\n"
     ]
    },
    {
     "data": {
      "image/png": "[encoded data removed]",
      "text/plain": [
       "<Figure size 720x288 with 2 Axes>"
      ]
     },
     "metadata": {
      "needs_background": "light"
     },
     "output_type": "display_data"
    },
    {
     "name": "stdout",
     "output_type": "stream",
     "text": [
      "Test loss : 0.28626266841888426\n",
      "Test acc  : 0.900080680847168\n",
      "\n",
      "\n"
     ]
    }
   ],
   "source": [
    "loss_f = [\"categorical_crossentropy\", \"MSE\", \"binary_crossentropy\"]\n",
    "\n",
    "for i, name in enumerate(loss_f):\n",
    "    print(f\"Loss function : {name}\")\n",
    "    show_train_history(train_history[i],'accuracy','val_accuracy','loss','val_loss')\n",
    "    #show_train_history(train_history[i],'loss','val_loss')   \n",
    "    print(f\"Test loss : {test_history[i][0]}\")\n",
    "    print(f\"Test acc  : {test_history[i][1]}\")\n",
    "    print(\"\\n\")"
   ]
  },
  {
   "cell_type": "code",
   "execution_count": null,
   "metadata": {},
   "outputs": [],
   "source": []
  }
 ],
 "metadata": {
  "colab": {
   "name": "Day71-使用損失函數_HW.ipynb",
   "provenance": [],
   "version": "0.3.2"
  },
  "kernelspec": {
   "display_name": "GIS",
   "language": "python",
   "name": "gis"
  },
  "language_info": {
   "codemirror_mode": {
    "name": "ipython",
    "version": 3
   },
   "file_extension": ".py",
   "mimetype": "text/x-python",
   "name": "python",
   "nbconvert_exporter": "python",
   "pygments_lexer": "ipython3",
   "version": "3.6.12"
  }
 },
 "nbformat": 4,
 "nbformat_minor": 1
}
