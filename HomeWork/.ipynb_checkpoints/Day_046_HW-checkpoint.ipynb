{
 "cells": [
  {
   "cell_type": "markdown",
   "metadata": {},
   "source": [
    "### 作業\n",
    "目前已經學過許多的模型，相信大家對整體流程應該比較掌握了，這次作業請改用**手寫辨識資料集**，步驟流程都是一樣的，請試著自己撰寫程式碼來完成所有步驟"
   ]
  },
  {
   "cell_type": "code",
   "execution_count": 13,
   "metadata": {},
   "outputs": [],
   "source": [
    "from sklearn import datasets, metrics, linear_model\n",
    "from sklearn.ensemble import RandomForestClassifier,GradientBoostingClassifier\n",
    "from sklearn.model_selection import train_test_split,StratifiedShuffleSplit,cross_val_score,GridSearchCV,RandomizedSearchCV\n",
    "from sklearn.tree import DecisionTreeClassifier\n",
    "from sklearn.metrics import mean_squared_error, r2_score, accuracy_score\n",
    "import numpy as np\n",
    "import matplotlib.pyplot as plt\n",
    "%matplotlib inline"
   ]
  },
  {
   "cell_type": "code",
   "execution_count": 2,
   "metadata": {},
   "outputs": [],
   "source": [
    "digits = datasets.load_digits()\n",
    "x_train, x_test, y_train, y_test = train_test_split(digits.data, digits.target, test_size=0.25, random_state=4)"
   ]
  },
  {
   "cell_type": "code",
   "execution_count": 5,
   "metadata": {},
   "outputs": [
    {
     "name": "stdout",
     "output_type": "stream",
     "text": [
      "0.951582867783985 4\n"
     ]
    },
    {
     "data": {
      "image/png": "[encoded data removed]",
      "text/plain": [
       "<Figure size 1440x360 with 1 Axes>"
      ]
     },
     "metadata": {
      "needs_background": "light"
     },
     "output_type": "display_data"
    }
   ],
   "source": [
    "#n_estimators的學習曲線\n",
    "superpa = []\n",
    "for i in [1,5,10,50,100,200]:\n",
    "    clf = RandomForestClassifier(n_estimators=i)\n",
    "    clf_s = cross_val_score(clf,digits.data,digits.target,cv=10).mean()\n",
    "    superpa.append(clf_s)\n",
    "print(max(superpa),superpa.index(max(superpa)))\n",
    "plt.figure(figsize=[20,5])\n",
    "plt.plot([1,5,10,50,100,200],superpa)\n",
    "plt.show()"
   ]
  },
  {
   "cell_type": "code",
   "execution_count": 11,
   "metadata": {},
   "outputs": [
    {
     "name": "stdout",
     "output_type": "stream",
     "text": [
      "Accuracy:  0.9111111111111111\n",
      "Feature importance:  [0.00000000e+00 1.68350786e-03 1.21306648e-02 7.94977062e-04\n",
      " 3.60289565e-03 5.07074221e-03 3.97097151e-03 0.00000000e+00\n",
      " 0.00000000e+00 4.73256944e-03 5.13105582e-02 5.21524995e-03\n",
      " 1.30292459e-02 1.26465094e-02 6.32087459e-04 0.00000000e+00\n",
      " 0.00000000e+00 1.61769807e-02 1.37810348e-02 2.36438472e-02\n",
      " 3.30669563e-02 7.18569558e-02 4.92578289e-03 0.00000000e+00\n",
      " 0.00000000e+00 3.03031590e-03 5.58013601e-02 1.28694998e-02\n",
      " 5.64497990e-02 1.77676159e-02 3.52444521e-02 0.00000000e+00\n",
      " 0.00000000e+00 3.13779313e-02 3.35405172e-02 2.03563224e-02\n",
      " 2.63556598e-02 1.42101298e-02 2.30197265e-02 0.00000000e+00\n",
      " 0.00000000e+00 6.98073766e-03 6.18545266e-02 4.84864690e-02\n",
      " 4.25715562e-02 1.31140089e-02 1.07393290e-02 0.00000000e+00\n",
      " 0.00000000e+00 3.86346939e-05 4.51022376e-03 9.04765708e-03\n",
      " 1.11383117e-02 4.57232896e-02 2.90846559e-02 0.00000000e+00\n",
      " 0.00000000e+00 0.00000000e+00 2.37806862e-02 6.65535867e-03\n",
      " 1.74278405e-02 3.58041805e-02 1.57031298e-02 9.04453767e-03]\n"
     ]
    }
   ],
   "source": [
    "clf = RandomForestClassifier(n_estimators=5, max_depth=8,min_samples_leaf=5)\n",
    "\n",
    "# 訓練模型\n",
    "clf.fit(x_train, y_train)\n",
    "\n",
    "# 預測測試集\n",
    "y_pred = clf.predict(x_test)\n",
    "\n",
    "acc = metrics.accuracy_score(y_test, y_pred)\n",
    "print(\"Accuracy: \", acc)\n",
    "print(\"Feature importance: \", clf.feature_importances_)"
   ]
  },
  {
   "cell_type": "code",
   "execution_count": 14,
   "metadata": {},
   "outputs": [
    {
     "name": "stdout",
     "output_type": "stream",
     "text": [
      "Acuuracy:  0.9111111111111111\n"
     ]
    }
   ],
   "source": [
    "# 建立模型\n",
    "clf2 = GradientBoostingClassifier()\n",
    "\n",
    "# 訓練模型\n",
    "clf2.fit(x_train, y_train)\n",
    "\n",
    "# 預測測試集\n",
    "y_pred2 = clf.predict(x_test)\n",
    "acc2 = metrics.accuracy_score(y_test, y_pred2)\n",
    "print(\"Acuuracy: \", acc2)"
   ]
  },
  {
   "cell_type": "code",
   "execution_count": null,
   "metadata": {},
   "outputs": [],
   "source": []
  }
 ],
 "metadata": {
  "kernelspec": {
   "display_name": "Python 3",
   "language": "python",
   "name": "python3"
  },
  "language_info": {
   "codemirror_mode": {
    "name": "ipython",
    "version": 3
   },
   "file_extension": ".py",
   "mimetype": "text/x-python",
   "name": "python",
   "nbconvert_exporter": "python",
   "pygments_lexer": "ipython3",
   "version": "3.8.3"
  }
 },
 "nbformat": 4,
 "nbformat_minor": 2
}
