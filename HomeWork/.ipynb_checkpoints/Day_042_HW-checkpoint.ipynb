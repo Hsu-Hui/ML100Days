{
 "cells": [
  {
   "cell_type": "markdown",
   "metadata": {},
   "source": [
    "## [作業重點]\n",
    "目前你應該已經要很清楚資料集中，資料的型態是什麼樣子囉！包含特徵 (features) 與標籤 (labels)。因此要記得未來不管什麼專案，必須要把資料清理成相同的格式，才能送進模型訓練。\n",
    "今天的作業開始踏入決策樹這個非常重要的模型，請務必確保你理解模型中每個超參數的意思，並試著調整看看，對最終預測結果的影響為何"
   ]
  },
  {
   "cell_type": "markdown",
   "metadata": {},
   "source": [
    "## 作業\n",
    "\n",
    "1. 試著調整 DecisionTreeClassifier(...) 中的參數，並觀察是否會改變結果？\n",
    "2. 改用其他資料集 (boston, wine)，並與回歸模型的結果進行比較"
   ]
  },
  {
   "cell_type": "code",
   "execution_count": 8,
   "metadata": {},
   "outputs": [],
   "source": [
    "from sklearn import datasets, metrics,tree\n",
    "\n",
    "# 如果是分類問題，請使用 DecisionTreeClassifier，若為回歸問題，請使用 DecisionTreeRegressor\n",
    "from sklearn.tree import DecisionTreeClassifier, DecisionTreeRegressor\n",
    "from sklearn.model_selection import train_test_split"
   ]
  },
  {
   "cell_type": "markdown",
   "metadata": {},
   "source": [
    "# 建立模型四步驟\n",
    "在 Scikit-learn 中，建立一個機器學習的模型其實非常簡單，流程大略是以下四個步驟\n",
    "\n",
    "讀進資料，並檢查資料的 shape (有多少 samples (rows), 多少 features (columns)，label 的型態是什麼？)  \n",
    "讀取資料的方法：  \n",
    "使用 pandas 讀取 .csv 檔：pd.read_csv  \n",
    "使用 numpy 讀取 .txt 檔：np.loadtxt  \n",
    "使用 Scikit-learn 內建的資料集：sklearn.datasets.load_xxx  \n",
    "檢查資料數量：data.shape (data should be np.array or dataframe)  \n",
    "將資料切為訓練 (train) / 測試 (test)  \n",
    "train_test_split(data)  \n",
    "建立模型，將資料 fit 進模型開始訓練  \n",
    "clf = DecisionTreeClassifier()  \n",
    "clf.fit(x_train, y_train)  \n",
    "將測試資料 (features) 放進訓練好的模型中，得到 prediction，與測試資料的 label (y_test) 做評估  \n",
    "clf.predict(x_test)  \n",
    "accuracy_score(y_test, y_pred)  \n",
    "f1_score(y_test, y_pred)  "
   ]
  },
  {
   "cell_type": "code",
   "execution_count": 3,
   "metadata": {},
   "outputs": [],
   "source": [
    "# 讀取wine資料集\n",
    "wine = datasets.load_wine()\n",
    "\n",
    "# 切分訓練集/測試集\n",
    "x_train, x_test, y_train, y_test = train_test_split(wine.data, wine.target, test_size=0.25, random_state=4)\n",
    "\n",
    "# 建立模型，是調整參數發現分數明顯上升\n",
    "clf = DecisionTreeClassifier(criterion = 'entropy', max_depth = None, min_samples_split = 13, min_samples_leaf = 2)\n",
    "\n",
    "# 訓練模型\n",
    "clf.fit(x_train, y_train)\n",
    "\n",
    "# 預測測試集\n",
    "y_pred = clf.predict(x_test)"
   ]
  },
  {
   "cell_type": "code",
   "execution_count": 4,
   "metadata": {},
   "outputs": [
    {
     "name": "stdout",
     "output_type": "stream",
     "text": [
      "Acuuracy:  0.9555555555555556\n"
     ]
    }
   ],
   "source": [
    "acc = metrics.accuracy_score(y_test, y_pred)\n",
    "print(\"Acuuracy: \", acc)"
   ]
  },
  {
   "cell_type": "code",
   "execution_count": 5,
   "metadata": {},
   "outputs": [
    {
     "name": "stdout",
     "output_type": "stream",
     "text": [
      "['alcohol', 'malic_acid', 'ash', 'alcalinity_of_ash', 'magnesium', 'total_phenols', 'flavanoids', 'nonflavanoid_phenols', 'proanthocyanins', 'color_intensity', 'hue', 'od280/od315_of_diluted_wines', 'proline']\n"
     ]
    }
   ],
   "source": [
    "print(wine.feature_names)"
   ]
  },
  {
   "cell_type": "code",
   "execution_count": 6,
   "metadata": {},
   "outputs": [
    {
     "name": "stdout",
     "output_type": "stream",
     "text": [
      "Feature importance:  [0.         0.01823358 0.         0.         0.07873204 0.\n",
      " 0.42020182 0.         0.         0.14366333 0.         0.\n",
      " 0.33916922]\n"
     ]
    }
   ],
   "source": [
    "print(\"Feature importance: \", clf.feature_importances_)"
   ]
  },
  {
   "cell_type": "code",
   "execution_count": 55,
   "metadata": {},
   "outputs": [],
   "source": [
    "from six import StringIO  \n",
    "from IPython.display import Image  \n",
    "from sklearn.tree import export_graphviz\n",
    "import pydot"
   ]
  },
  {
   "cell_type": "code",
   "execution_count": 62,
   "metadata": {},
   "outputs": [],
   "source": [
    "with open(\"wine.dot\", 'w') as f:\n",
    "     f = export_graphviz(clf, out_file=f)"
   ]
  },
  {
   "cell_type": "code",
   "execution_count": 60,
   "metadata": {},
   "outputs": [],
   "source": [
    "#刪除文件\n",
    "#import os\n",
    "#os.unlink('wine.dot')"
   ]
  },
  {
   "cell_type": "code",
   "execution_count": 9,
   "metadata": {},
   "outputs": [
    {
     "data": {
      "text/plain": [
       "[Text(136.96363636363637, 190.26, 'X[6] <= 1.575\\nentropy = 1.552\\nsamples = 133\\nvalue = [44, 56, 33]'),\n",
       " Text(60.872727272727275, 135.9, 'X[9] <= 3.825\\nentropy = 0.712\\nsamples = 41\\nvalue = [0, 8, 33]'),\n",
       " Text(30.436363636363637, 81.53999999999999, 'entropy = 0.0\\nsamples = 8\\nvalue = [0, 8, 0]'),\n",
       " Text(91.30909090909091, 81.53999999999999, 'entropy = 0.0\\nsamples = 33\\nvalue = [0, 0, 33]'),\n",
       " Text(213.05454545454546, 135.9, 'X[12] <= 722.5\\nentropy = 0.999\\nsamples = 92\\nvalue = [44, 48, 0]'),\n",
       " Text(152.1818181818182, 81.53999999999999, 'X[1] <= 3.925\\nentropy = 0.151\\nsamples = 46\\nvalue = [1, 45, 0]'),\n",
       " Text(121.74545454545455, 27.180000000000007, 'entropy = 0.0\\nsamples = 42\\nvalue = [0, 42, 0]'),\n",
       " Text(182.61818181818182, 27.180000000000007, 'entropy = 0.811\\nsamples = 4\\nvalue = [1, 3, 0]'),\n",
       " Text(273.92727272727274, 81.53999999999999, 'X[4] <= 132.0\\nentropy = 0.348\\nsamples = 46\\nvalue = [43, 3, 0]'),\n",
       " Text(243.4909090909091, 27.180000000000007, 'entropy = 0.0\\nsamples = 43\\nvalue = [43, 0, 0]'),\n",
       " Text(304.3636363636364, 27.180000000000007, 'entropy = 0.0\\nsamples = 3\\nvalue = [0, 3, 0]')]"
      ]
     },
     "execution_count": 9,
     "metadata": {},
     "output_type": "execute_result"
    },
    {
     "data": {
      "image/png": "[encoded data removed]",
      "text/plain": [
       "<Figure size 432x288 with 1 Axes>"
      ]
     },
     "metadata": {
      "needs_background": "light"
     },
     "output_type": "display_data"
    }
   ],
   "source": [
    "tree.plot_tree(clf)"
   ]
  },
  {
   "cell_type": "code",
   "execution_count": null,
   "metadata": {},
   "outputs": [],
   "source": []
  }
 ],
 "metadata": {
  "kernelspec": {
   "display_name": "Python 3",
   "language": "python",
   "name": "python3"
  },
  "language_info": {
   "codemirror_mode": {
    "name": "ipython",
    "version": 3
   },
   "file_extension": ".py",
   "mimetype": "text/x-python",
   "name": "python",
   "nbconvert_exporter": "python",
   "pygments_lexer": "ipython3",
   "version": "3.8.3"
  }
 },
 "nbformat": 4,
 "nbformat_minor": 2
}
